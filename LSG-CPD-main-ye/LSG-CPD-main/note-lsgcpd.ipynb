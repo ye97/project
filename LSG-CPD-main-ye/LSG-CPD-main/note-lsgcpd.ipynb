{
 "cells": [
  {
   "cell_type": "code",
   "execution_count": 5,
   "id": "8e056ebb",
   "metadata": {},
   "outputs": [
    {
     "name": "stdout",
     "output_type": "stream",
     "text": [
      "\n"
     ]
    }
   ],
   "source": [
    "% LSG-CPD: CPD with Local Surface Geometry\n",
    "% Demo of Multi-view experiments\n",
    "% Author: Weixiao Liu, Hongtao Wu \n",
    "% Johns Hopkins University & National University of Singapore\n",
    "\n",
    "% Armadillo - 12 views\n",
    "% Dragon    - 15 views\n",
    "% Happy     - 15 views\n",
    "\n",
    "clear\n",
    "clc\n",
    "close all\n",
    "%addpath generate working directory\n",
    "addpath(genpath(pwd));"
   ]
  },
  {
   "cell_type": "code",
   "execution_count": 16,
   "id": "e47698fb",
   "metadata": {},
   "outputs": [
    {
     "name": "stdout",
     "output_type": "stream",
     "text": [
      "\n"
     ]
    }
   ],
   "source": [
    "%字符串比对，实现\n",
    "model_name = \"Bunny\";\n",
    "num_pc=0;\n",
    "if strcmp(model_name, 'Happy') || strcmp(model_name, 'dragon')\n",
    "    num_pc = 2;\n",
    "else\n",
    "    if strcmp(model_name, 'Armadillo')\n",
    "        num_pc = 12;\n",
    "    \n",
    "    else\n",
    "        if strcmp(model_name, 'Bunny')\n",
    "            num_pc=10;\n",
    "        end\n",
    "    end     \n",
    "end"
   ]
  },
  {
   "cell_type": "code",
   "execution_count": 17,
   "id": "e16f58a9",
   "metadata": {},
   "outputs": [
    {
     "name": "stdout",
     "output_type": "stream",
     "text": [
      "\n"
     ]
    }
   ],
   "source": [
    "% --------------- Load data ---------------\n",
    "path = strcat(\"data/multiview/\", model_name, '/');\n",
    "pc = cell(1, num_pc);\n",
    "\n",
    "for i = 1 : num_pc\n",
    "    filename = sprintf(\"%d.ply\", i);\n",
    "    pc{i} = pcread(strcat(path, filename));\n",
    "end"
   ]
  },
  {
   "cell_type": "markdown",
   "id": "238a1224",
   "metadata": {},
   "source": [
    "# 1,strcat函数即字符串拼接函数\n",
    "# 2，pcread函数，点云读取\n",
    "## 1，ptCloud = pcread(filename) 从PLY、PCD读取指定路径的点云。反回一个pointCloud对象。\n",
    "## 2，pointcloud对象包含属性\n",
    "    1. Location——3D点坐标，数据格式为M*3矩阵或者M*N*3矩阵\n",
    "    2. Color——3D点的RGB颜色 信息，数据格式同上\n",
    "    3. Normal——3D点的法向量信息，数据格式同上\n",
    "    4. Count——3D点的数量\n",
    "    5. Xlimits——X坐标大小范围\n",
    "    6. Ylimits——Y坐标大小范围\n",
    "    7. Zlimits——Z坐标大小范围\n",
    "    \n",
    "# 3,点云存储\n",
    "~~~matlab\n",
    " pcwrite(ptCloud,filename)\n",
    " pcwrite(ptCloud,filename,'Encoding',encodingType)\n",
    "~~~\n",
    " # 4，点云显示\n",
    "     pcshow\n",
    "   \n",
    " "
   ]
  },
  {
   "cell_type": "code",
   "execution_count": null,
   "id": "eb6c10b9",
   "metadata": {},
   "outputs": [],
   "source": [
    "% --------------- Initial point cloud ---------------\n",
    "[pc_merge] = MergePointClouds(pc, 'pointCloud');\n",
    "% 点云拼接函数\n",
    "figure\n",
    "ShowPointClouds(pc_merge, 'backgroundColor', 'white', 'grid', 'hide', 'axis', 'hide', 'dataset', model_name);\n",
    "title('Randomly Initialized Point Clouds')\n",
    "\n",
    "xform_rel = cell(1, num_pc-1); % relative xform\n",
    "xform_abs = cell(1, num_pc);   % absolute xform\n",
    "\n",
    "for i = 1 : num_pc-1\n",
    "    xform_rel{i} = LSGCPD(pc{i+1}, pc{i}, 'outlierRatio', 0.9);\n",
    "end\n",
    "\n",
    "xform_abs{1} = eye(4);\n",
    "for i = 1 : num_pc-1\n",
    "    temp_xform_rel = xform_rel{i};\n",
    "    xform_abs{i+1} = xform_abs{i} * [temp_xform_rel.Rotation', temp_xform_rel.Translation'; 0 0 0 1];\n",
    "end"
   ]
  },
  {
   "cell_type": "code",
   "execution_count": null,
   "id": "f290bea1",
   "metadata": {},
   "outputs": [],
   "source": [
    "pc_result = cell(1, num_pc);\n",
    "pc_result{1} = pc{1};\n",
    "for i = 2 : num_pc\n",
    "    temp_xform_abs = rigid3d(xform_abs{i}(1:3, 1:3)', xform_abs{i}(1:3, 4)');\n",
    "    pc_result{i} = pctransform(pc{i}, temp_xform_abs);\n",
    "end\n",
    "\n",
    "pc_result_merge = MergePointClouds(pc_result, 'pointCloud');\n",
    "% pc_result_merge = pcdenoise(pc_result_merge, 'Threshold', 1, 'NumNeighbors', 50);\n",
    "figure\n",
    "disp(pc_result_merge.Count)\n",
    "ShowPointClouds(pc_result_merge, 'backgroundColor', 'white', 'grid', 'hide', 'axis', 'hide', 'dataset', model_name);"
   ]
  },
  {
   "cell_type": "code",
   "execution_count": null,
   "id": "06991a0c",
   "metadata": {},
   "outputs": [],
   "source": [
    "for i = 1 : 10\n",
    "   disp(xform_abs{i}.Rotation)\n",
    "end"
   ]
  },
  {
   "cell_type": "code",
   "execution_count": null,
   "id": "fe55b337",
   "metadata": {},
   "outputs": [],
   "source": [
    "for i=1:num_pc-1\n",
    "    disp(xform_abs{i})\n",
    "end"
   ]
  },
  {
   "cell_type": "code",
   "execution_count": null,
   "id": "79061077",
   "metadata": {},
   "outputs": [],
   "source": [
    "disp(xform_abs{2})"
   ]
  },
  {
   "cell_type": "code",
   "execution_count": null,
   "id": "6f40618b",
   "metadata": {},
   "outputs": [],
   "source": [
    "disp(xform_abs{3})"
   ]
  },
  {
   "cell_type": "code",
   "execution_count": null,
   "id": "6bb88e1e",
   "metadata": {},
   "outputs": [],
   "source": []
  }
 ],
 "metadata": {
  "kernelspec": {
   "display_name": "Matlab",
   "language": "matlab",
   "name": "matlab"
  },
  "language_info": {
   "codemirror_mode": "octave",
   "file_extension": ".m",
   "help_links": [
    {
     "text": "MetaKernel Magics",
     "url": "https://metakernel.readthedocs.io/en/latest/source/README.html"
    }
   ],
   "mimetype": "text/x-octave",
   "name": "matlab",
   "version": "0.16.11"
  }
 },
 "nbformat": 4,
 "nbformat_minor": 5
}
