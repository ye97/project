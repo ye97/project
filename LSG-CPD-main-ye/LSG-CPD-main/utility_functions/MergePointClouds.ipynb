{
 "cells": [
  {
   "cell_type": "code",
   "execution_count": null,
   "id": "e5da517a",
   "metadata": {},
   "outputs": [],
   "source": [
    "% LSG-CPD: CPD with Local Surface Geometry\n",
    "% Merging point clouds together\n",
    "% Author: Weixiao Liu, Hongtao Wu \n",
    "% Johns Hopkins University & National University of Singapore\n",
    "\n",
    "function [pc_merge] = MergePointClouds(pc, type)\n",
    "% input: \n",
    "%   pc (array or pointCloud): pointClouds stored in a cell{1, num_pc} (class: cell{pointCloud})\n",
    "%   size：cell{1，num_pc} \n",
    "%   output: \n",
    "%   pc_merge (pointCloud)- merged point cloud\n",
    "\tnum_pc = size(pc, 2);\n",
    "\tnum_points = 0;\n",
    "\tfor i = 1 : num_pc\n",
    "    %pc{i}.Location —— M*3\n",
    "\tnum_points = num_points + size(pc{i}.Location, 1);\n",
    "\tend\n",
    "\tLocation_merge = zeros(num_points, 3);\n",
    "\tnum_previous = 0;\n",
    "    %num_preview即Location_merge的下标\n",
    "\tfor i = 1 : num_pc\n",
    "\tLocation_merge(num_previous + 1 : num_previous + size(pc{i}.Location, 1), :) = pc{i}.Location;\n",
    "\tnum_previous = num_previous + size(pc{i}.Location, 1);\n",
    "\tend\n",
    "\tif strcmp(type, 'pointCloud')\n",
    "    %pointcloud 创建pointcloud类对象\n",
    "\tpc_merge = pointCloud(Location_merge);\n",
    "\telse\n",
    "\tif strcmp(type, 'array')\n",
    "\t    pc_merge = Location_merge;\n",
    "\telse\n",
    "\t    error('TYPE not supported. Please select either array or pointCloud.')\n",
    "\tend\n",
    "\tend\n",
    "end\n"
   ]
  }
 ],
 "metadata": {
  "kernelspec": {
   "display_name": "Matlab",
   "language": "matlab",
   "name": "matlab"
  },
  "language_info": {
   "codemirror_mode": "octave",
   "file_extension": ".m",
   "help_links": [
    {
     "text": "MetaKernel Magics",
     "url": "https://metakernel.readthedocs.io/en/latest/source/README.html"
    }
   ],
   "mimetype": "text/x-octave",
   "name": "matlab",
   "version": "0.16.11"
  }
 },
 "nbformat": 4,
 "nbformat_minor": 5
}
